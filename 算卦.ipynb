{
 "cells": [
  {
   "cell_type": "code",
   "execution_count": 1,
   "metadata": {},
   "outputs": [],
   "source": [
    "import random\n",
    "coin_yao={0:['老阳'],1:['少阴'],2:['少阳'],3:['老阴']}\n",
    "gua64=['坤','剝','比','觀','豫','晉','萃','否','謙','艮','蹇','漸','小過','旅','咸','遯','師','蒙','坎','渙','解','未濟','困','訟','升','蠱','井','巽','恆','鼎','大過','姤','復','頤','屯','益','震','噬嗑','隨','無妄','明夷','賁','既濟','家人','豐','離','革','同人','臨','損','節','中孚','歸妹','睽','兌','履','泰','大畜','需','小畜','大壯','大有','夬','乾']\n",
    "zhouyiguaxu=['乾','坤','屯','蒙','需','訟','師','比','小畜','履','泰','否','同人','大有','謙','豫','隨','蠱','臨','觀','噬嗑','賁','剝','復','無妄','大畜','頤','大過','坎','離','咸','恆','遯','大壯','晉','明夷','家人','睽','蹇','解','損','益','夬','姤','萃','升','困','井','革','鼎','震','艮','漸','歸妹','豐','旅','巽','兌','渙','節','中孚','小過','既濟','未濟']\n",
    "w1=['https://m.zhouyi.cc/zhouyi/yijing64/4103.html', 'https://m.zhouyi.cc/zhouyi/yijing64/4105.html', 'https://m.zhouyi.cc/zhouyi/yijing64/4106.html', 'https://m.zhouyi.cc/zhouyi/yijing64/4107.html', 'https://m.zhouyi.cc/zhouyi/yijing64/4108.html', 'https://m.zhouyi.cc/zhouyi/yijing64/4109.html', 'https://m.zhouyi.cc/zhouyi/yijing64/4110.html', 'https://m.zhouyi.cc/zhouyi/yijing64/4111.html', 'https://m.zhouyi.cc/zhouyi/yijing64/4112.html', 'https://m.zhouyi.cc/zhouyi/yijing64/4113.html', 'https://m.zhouyi.cc/zhouyi/yijing64/4126.html', 'https://m.zhouyi.cc/zhouyi/yijing64/4127.html', 'https://m.zhouyi.cc/zhouyi/yijing64/4140.html', 'https://m.zhouyi.cc/zhouyi/yijing64/4141.html', 'https://m.zhouyi.cc/zhouyi/yijing64/4142.html', 'https://m.zhouyi.cc/zhouyi/yijing64/4143.html', 'https://m.zhouyi.cc/zhouyi/yijing64/4144.html', 'https://m.zhouyi.cc/zhouyi/yijing64/4145.html', 'https://m.zhouyi.cc/zhouyi/yijing64/4146.html', 'https://m.zhouyi.cc/zhouyi/yijing64/4147.html', 'https://m.zhouyi.cc/zhouyi/yijing64/4148.html', 'https://m.zhouyi.cc/zhouyi/yijing64/4149.html', 'https://m.zhouyi.cc/zhouyi/yijing64/4150.html', 'https://m.zhouyi.cc/zhouyi/yijing64/4152.html', 'https://m.zhouyi.cc/zhouyi/yijing64/4153.html', 'https://m.zhouyi.cc/zhouyi/yijing64/4159.html', 'https://m.zhouyi.cc/zhouyi/yijing64/4164.html', 'https://m.zhouyi.cc/zhouyi/yijing64/4167.html', 'https://m.zhouyi.cc/zhouyi/yijing64/4168.html', 'https://m.zhouyi.cc/zhouyi/yijing64/4169.html','https://m.zhouyi.cc/zhouyi/yijing64/4170.html', 'https://m.zhouyi.cc/zhouyi/yijing64/4171.html', 'https://m.zhouyi.cc/zhouyi/yijing64/4172.html', 'https://m.zhouyi.cc/zhouyi/yijing64/4173.html', 'https://m.zhouyi.cc/zhouyi/yijing64/4174.html', 'https://m.zhouyi.cc/zhouyi/yijing64/4175.html', 'https://m.zhouyi.cc/zhouyi/yijing64/4176.html', 'https://m.zhouyi.cc/zhouyi/yijing64/4177.html', 'https://m.zhouyi.cc/zhouyi/yijing64/4179.html', 'https://m.zhouyi.cc/zhouyi/yijing64/4180.html', 'https://m.zhouyi.cc/zhouyi/yijing64/4181.html', 'https://m.zhouyi.cc/zhouyi/yijing64/4182.html', 'https://m.zhouyi.cc/zhouyi/yijing64/4183.html', 'https://m.zhouyi.cc/zhouyi/yijing64/4184.html', 'https://m.zhouyi.cc/zhouyi/yijing64/4185.html', 'https://m.zhouyi.cc/zhouyi/yijing64/4186.html', 'https://m.zhouyi.cc/zhouyi/yijing64/4187.html', 'https://m.zhouyi.cc/zhouyi/yijing64/4188.html', 'https://m.zhouyi.cc/zhouyi/yijing64/4189.html', 'https://m.zhouyi.cc/zhouyi/yijing64/4190.html', 'https://m.zhouyi.cc/zhouyi/yijing64/4192.html', 'https://m.zhouyi.cc/zhouyi/yijing64/4193.html', 'https://m.zhouyi.cc/zhouyi/yijing64/4194.html', 'https://m.zhouyi.cc/zhouyi/yijing64/4195.html', 'https://m.zhouyi.cc/zhouyi/yijing64/4196.html', 'https://m.zhouyi.cc/zhouyi/yijing64/4197.html', 'https://m.zhouyi.cc/zhouyi/yijing64/4198.html', 'https://m.zhouyi.cc/zhouyi/yijing64/4200.html', 'https://m.zhouyi.cc/zhouyi/yijing64/4212.html', 'https://m.zhouyi.cc/zhouyi/yijing64/4244.html', 'https://m.zhouyi.cc/zhouyi/yijing64/4255.html', 'https://m.zhouyi.cc/zhouyi/yijing64/4256.html', 'https://m.zhouyi.cc/zhouyi/yijing64/4257.html', 'https://m.zhouyi.cc/zhouyi/yijing64/4263.html']"
   ]
  },
  {
   "cell_type": "code",
   "execution_count": 2,
   "metadata": {},
   "outputs": [],
   "source": [
    "def Diff(li1, li2):\n",
    "    return list(set(li1) - set(li2)) + list(set(li2) - set(li1))"
   ]
  },
  {
   "cell_type": "code",
   "execution_count": 3,
   "metadata": {},
   "outputs": [],
   "source": [
    "def liuyao(show_process):\n",
    "    coin=[]\n",
    "    for i in range(6):\n",
    "        head=0\n",
    "        for j in range(3):\n",
    "            m=random.random()\n",
    "            if m>0.5:\n",
    "                head+=1\n",
    "        coin.append(head)\n",
    "    yao=[]\n",
    "    yao_plain=[]\n",
    "    bian=[]\n",
    "    gua_num=0\n",
    "    m=0\n",
    "    for i in coin:\n",
    "        yao.append(coin_yao[i])\n",
    "        if i in [0,3]:\n",
    "            bian.append(m)    \n",
    "        if i in [0,2]:\n",
    "            yao_plain.append(1)\n",
    "        else:\n",
    "            yao_plain.append(0)\n",
    "        m+=1\n",
    "    if len(bian)<=3:\n",
    "        for i in range(6):\n",
    "            gua_num+=pow(2,5-i)*yao_plain[i]\n",
    "        gua=gua64[gua_num]\n",
    "        guaxu=zhouyiguaxu.index(gua)\n",
    "        if len(bian)==0:\n",
    "            print('请按第%s卦'%str(guaxu+1),gua,'卦辞解')\n",
    "        else:\n",
    "            bian1=[i+1 for i in bian]\n",
    "            print('请按第%s卦'%str(guaxu+1),gua,'卦中第',bian1,'位的爻解')\n",
    "            #liuyao()\n",
    "    else:\n",
    "        for i in range(6):\n",
    "            if i in bian:\n",
    "                gua_num+=pow(2,5-i)*(1-yao_plain[i])\n",
    "            else:\n",
    "                gua_num+=pow(2,5-i)*yao_plain[i]\n",
    "        gua=gua64[gua_num]\n",
    "        guaxu=zhouyiguaxu.index(gua)\n",
    "        if len(bian)==6:\n",
    "            print('请按第%s卦'%str(guaxu+1),gua,'卦辞解')\n",
    "        else:\n",
    "            bian2=Diff(range(6),bian)\n",
    "            bian3=[i+1 for i in bian2]\n",
    "            print('请按第%s卦'%str(guaxu+1),gua,'卦中第',bian3,'位的爻解')\n",
    "    print('详见',w1[guaxu])\n",
    "    if show_process:\n",
    "        print(yao,yao_plain,bian,gua)"
   ]
  },
  {
   "cell_type": "code",
   "execution_count": 4,
   "metadata": {},
   "outputs": [
    {
     "name": "stdout",
     "output_type": "stream",
     "text": [
      "请按第5卦 需 卦中第 [5] 位的爻解\n",
      "详见 https://m.zhouyi.cc/zhouyi/yijing64/4108.html\n"
     ]
    }
   ],
   "source": [
    "liuyao(0)"
   ]
  },
  {
   "cell_type": "code",
   "execution_count": null,
   "metadata": {},
   "outputs": [],
   "source": []
  },
  {
   "cell_type": "code",
   "execution_count": null,
   "metadata": {},
   "outputs": [],
   "source": []
  },
  {
   "cell_type": "code",
   "execution_count": null,
   "metadata": {},
   "outputs": [],
   "source": []
  },
  {
   "cell_type": "code",
   "execution_count": null,
   "metadata": {},
   "outputs": [],
   "source": []
  },
  {
   "cell_type": "code",
   "execution_count": null,
   "metadata": {},
   "outputs": [],
   "source": []
  },
  {
   "cell_type": "code",
   "execution_count": null,
   "metadata": {},
   "outputs": [],
   "source": []
  },
  {
   "cell_type": "code",
   "execution_count": null,
   "metadata": {},
   "outputs": [],
   "source": []
  }
 ],
 "metadata": {
  "kernelspec": {
   "display_name": "Python 3",
   "language": "python",
   "name": "python3"
  },
  "language_info": {
   "codemirror_mode": {
    "name": "ipython",
    "version": 3
   },
   "file_extension": ".py",
   "mimetype": "text/x-python",
   "name": "python",
   "nbconvert_exporter": "python",
   "pygments_lexer": "ipython3",
   "version": "3.8.5"
  }
 },
 "nbformat": 4,
 "nbformat_minor": 4
}
