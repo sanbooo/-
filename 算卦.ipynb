{
 "cells": [
  {
   "cell_type": "code",
   "execution_count": 408,
   "metadata": {},
   "outputs": [],
   "source": [
    "import random\n",
    "import pandas as pd\n",
    "df0=pd.DataFrame(pd.read_excel('六十四卦.xlsx'))\n",
    "coin_yao={0:['老阳'],1:['少阴'],2:['少阳'],3:['老阴']}\n",
    "gua64=['坤','剝','比','觀','豫','晉','萃','否','謙','艮','蹇','漸','小過','旅','咸','遯','師','蒙','坎','渙','解','未濟','困','訟','升','蠱','井','巽','恆','鼎','大過','姤','復','頤','屯','益','震','噬嗑','隨','無妄','明夷','賁','既濟','家人','豐','離','革','同人','臨','損','節','中孚','歸妹','睽','兌','履','泰','大畜','需','小畜','大壯','大有','夬','乾']\n",
    "zhouyiguaxu=['乾','坤','屯','蒙','需','訟','師','比','小畜','履','泰','否','同人','大有','謙','豫','隨','蠱','臨','觀','噬嗑','賁','剝','復','無妄','大畜','頤','大過','坎','離','咸','恆','遯','大壯','晉','明夷','家人','睽','蹇','解','損','益','夬','姤','萃','升','困','井','革','鼎','震','艮','漸','歸妹','豐','旅','巽','兌','渙','節','中孚','小過','既濟','未濟']"
   ]
  },
  {
   "cell_type": "code",
   "execution_count": 6,
   "metadata": {},
   "outputs": [],
   "source": [
    "def Diff(li1, li2):\n",
    "    return list(set(li1) - set(li2)) + list(set(li2) - set(li1))"
   ]
  },
  {
   "cell_type": "code",
   "execution_count": 409,
   "metadata": {},
   "outputs": [],
   "source": [
    "def gua_info(df,guaxu):\n",
    "    gua=zhouyiguaxu[guaxu]\n",
    "    print('第'+str(guaxu+1)+'卦 '+gua+'卦内容如下：')\n",
    "    print('1.吉凶:',df.loc[guaxu*7,'运势'])\n",
    "    print('2.原文:',df.loc[guaxu*7,'原文'].replace('\\n',''))\n",
    "    print('3.白话文:',df.loc[guaxu*7,'白话文'].replace('\\n',''))\n",
    "    print('4.释义:',df.loc[guaxu*7,'传统'],'\\n')\n",
    "    return df.loc[guaxu*7,'数值']\n",
    "\n",
    "def yao_info(df,guaxu,bian):\n",
    "    gua=zhouyiguaxu[guaxu]\n",
    "    print(gua+'卦第'+str(bian+1)+'爻内容如下：')\n",
    "    print('1.吉凶:',df.loc[guaxu*7+bian+1,'运势'])\n",
    "    print('2.原文:',df.loc[guaxu*7+bian+1,'原文'].replace('\\n',''))\n",
    "    print('3.白话文:',df.loc[guaxu*7+bian+1,'白话文'].replace('\\n',''))\n",
    "    print('4.释义:',df.loc[guaxu*7+bian+1,'变卦'],'\\n')\n",
    "    return df.loc[guaxu*7+bian+1,'数值']"
   ]
  },
  {
   "cell_type": "code",
   "execution_count": 410,
   "metadata": {},
   "outputs": [],
   "source": [
    "def liuyao_df(df,p): #p:主爻的影响力\n",
    "    coin=[]\n",
    "    for i in range(6):\n",
    "        head=0\n",
    "        for j in range(3):\n",
    "            m=random.random()\n",
    "            if m>0.5:\n",
    "                head+=1\n",
    "        coin.append(head)\n",
    "    yao=[]\n",
    "    yao_plain=[]\n",
    "    bian=[]\n",
    "    gua_num=0\n",
    "    m=0\n",
    "    for i in coin:\n",
    "        yao.append(coin_yao[i])\n",
    "        if i in [0,3]:\n",
    "            bian.append(m)    \n",
    "        if i in [0,2]:\n",
    "            yao_plain.append(1)\n",
    "        else:\n",
    "            yao_plain.append(0)\n",
    "        m+=1\n",
    "    if len(bian)<3:\n",
    "        for i in range(6):\n",
    "            gua_num+=pow(2,5-i)*yao_plain[i]\n",
    "        gua=gua64[gua_num]\n",
    "        guaxu=zhouyiguaxu.index(gua)\n",
    "        if len(bian)==0:\n",
    "            print('请按第%s卦'%str(guaxu+1),gua,'卦辞解','\\n')\n",
    "            return gua_info(df,guaxu)\n",
    "        else:\n",
    "            bian1=[i+1 for i in bian]\n",
    "            print('请按第%s卦'%str(guaxu+1),gua,'卦中第',bian1,'位的变爻解','\\n')\n",
    "            a=yao_info(df,guaxu,bian[0])\n",
    "            if len(bian)==2:\n",
    "                b=yao_info(df,guaxu,bian[1])\n",
    "                print('以',bian1[1],'爻(后)为主')\n",
    "                return b*p+a*(1-p)\n",
    "            else:\n",
    "                return a\n",
    "    elif len(bian)==3:\n",
    "        gua_num1=0\n",
    "        gua_num2=0\n",
    "        for i in range(6):\n",
    "            gua_num1+=pow(2,5-i)*yao_plain[i]\n",
    "            if i in bian:\n",
    "                gua_num2+=pow(2,5-i)*(1-yao_plain[i])\n",
    "            else:\n",
    "                gua_num2+=pow(2,5-i)*yao_plain[i]\n",
    "        gua1=gua64[gua_num1]\n",
    "        gua2=gua64[gua_num2]\n",
    "        guaxu1=zhouyiguaxu.index(gua1)\n",
    "        guaxu2=zhouyiguaxu.index(gua2)\n",
    "        print('请按第%s卦'%str(guaxu1+1),gua1,'和第%s卦'%str(guaxu2+1),gua2,'卦辞解','\\n')\n",
    "        a=gua_info(df,guaxu1)\n",
    "        print('第',guaxu2+1,'卦内容如下：')\n",
    "        b=gua_info(df,guaxu2)\n",
    "        return 0.5*a+0.5*b\n",
    "    else:\n",
    "        for i in range(6):\n",
    "            if i in bian:\n",
    "                gua_num+=pow(2,5-i)*(1-yao_plain[i])\n",
    "            else:\n",
    "                gua_num+=pow(2,5-i)*yao_plain[i]\n",
    "        gua=gua64[gua_num]\n",
    "        guaxu=zhouyiguaxu.index(gua)\n",
    "        if len(bian)==6:\n",
    "            print('请按第%s卦'%str(guaxu+1),gua,'卦辞解','\\n')\n",
    "            return gua_info(df,guaxu)\n",
    "        else:\n",
    "            bian2=Diff(range(6),bian)\n",
    "            bian3=[i+1 for i in bian2]\n",
    "            print('请按第%s卦'%str(guaxu+1),gua,'卦中第',bian3,'位的爻解','\\n')\n",
    "            a=yao_info(df,guaxu,bian2[0])\n",
    "            if len(bian)==4:\n",
    "                b=yao_info(df,guaxu,bian2[1])\n",
    "                print('以第',bian3[0],'爻(前)为主')\n",
    "                return a*p+b*(1-p)\n",
    "            else:\n",
    "                return a"
   ]
  },
  {
   "cell_type": "code",
   "execution_count": 411,
   "metadata": {},
   "outputs": [
    {
     "name": "stdout",
     "output_type": "stream",
     "text": [
      "请按第23卦 剝 卦辞解 \n",
      "\n",
      "第23卦 剝卦内容如下：\n",
      "1.吉凶: 兇\n",
      "2.原文: 剥。不利有攸往。象曰：山附于地，剥。上以厚下，安宅。\n",
      "3.白话文: 剥卦：有所往则不利。《象辞》说：本卦上卦为艮为山，下卦为坤为地，山在地上，风雨剥蚀，这是剥卦的卦象。君子观此卦象，以山石剥落，岩角崩塌为戒，从而厚结民心，使人民安居乐业。\n",
      "4.释义: 这个卦是异卦（下坤上艮）相叠。五阴在下，一阳在上，阴盛而阳孤；高山附于地。二者都是剥落象，故为“剥卦”。此卦阴盛阳衰，喻小人得势，君子困顿，事业败坏。\n",
      "大象：山附于地喻山石崩而落于地面上，五阴迫一阳，正义被损。\n",
      "运势：恶运缠身，宜重新部署，不宜自作聪明，防被女子及小人连累。\n",
      "事业：时运不佳，乃大势所趋，个人只能顺应时势而暂停行动，静观待变，不可冒险，积极创造条件，增强实力，谨慎隐忍，勿与小人同流。时来运转，成就事业，为期不远。\n",
      "经商：已从高峰转入低落，进入不景气时期，需要认真总结经验教训，进行整顿，尤其不可孤注一掷。景气形势一旦到来，可顺势从容再起。\n",
      "求名：成功的可能性不大，不宜执意强求，应继续创造条件，努力提高自己，充实处世的本领，增强实力，待机东山再起。\n",
      "婚恋：务须慎重考虑，除非有十分般配者，不要随便进行。双方应注意维护家庭的和睦。\n",
      "决策：一生曲折较多，往往隐入不顺利的境况，甚至绝境，但可绝处逢生。只要冷静分析形势，顽强拼搏，一定会彻底改变命运，获得美好的结果，为他人惊羡。关键是不可急于求成，尤其不可冒险。须顺应时势，并防小人陷害。 \n",
      "\n"
     ]
    },
    {
     "data": {
      "text/plain": [
       "0.0"
      ]
     },
     "execution_count": 411,
     "metadata": {},
     "output_type": "execute_result"
    }
   ],
   "source": [
    "liuyao_df(df0,0.9)"
   ]
  },
  {
   "cell_type": "code",
   "execution_count": null,
   "metadata": {},
   "outputs": [],
   "source": []
  },
  {
   "cell_type": "code",
   "execution_count": null,
   "metadata": {},
   "outputs": [],
   "source": []
  },
  {
   "cell_type": "code",
   "execution_count": null,
   "metadata": {},
   "outputs": [],
   "source": []
  },
  {
   "cell_type": "code",
   "execution_count": null,
   "metadata": {},
   "outputs": [],
   "source": []
  },
  {
   "cell_type": "code",
   "execution_count": null,
   "metadata": {
    "scrolled": true
   },
   "outputs": [],
   "source": []
  },
  {
   "cell_type": "code",
   "execution_count": null,
   "metadata": {},
   "outputs": [],
   "source": []
  },
  {
   "cell_type": "code",
   "execution_count": null,
   "metadata": {},
   "outputs": [],
   "source": []
  },
  {
   "cell_type": "code",
   "execution_count": null,
   "metadata": {},
   "outputs": [],
   "source": []
  }
 ],
 "metadata": {
  "kernelspec": {
   "display_name": "Python 3",
   "language": "python",
   "name": "python3"
  },
  "language_info": {
   "codemirror_mode": {
    "name": "ipython",
    "version": 3
   },
   "file_extension": ".py",
   "mimetype": "text/x-python",
   "name": "python",
   "nbconvert_exporter": "python",
   "pygments_lexer": "ipython3",
   "version": "3.8.5"
  }
 },
 "nbformat": 4,
 "nbformat_minor": 4
}
