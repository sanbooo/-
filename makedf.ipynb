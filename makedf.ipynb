{
 "cells": [
  {
   "cell_type": "code",
   "execution_count": null,
   "metadata": {},
   "outputs": [],
   "source": [
    "from selenium import webdriver\n",
    "driver = webdriver.Chrome()\n",
    "L=[]\n",
    "for i in range(64):\n",
    "    url='https://m.zhouyi.cc/zhouyi/yijing64/'+w1[i]+'.html'\n",
    "    driver.get(url)\n",
    "    a=driver.find_elements_by_xpath('//*[@class=\"tip_text\"]') \n",
    "    a1=[]\n",
    "    for j in range(7):\n",
    "        a1.append(a[j].text)\n",
    "    L.append(a1)"
   ]
  },
  {
   "cell_type": "code",
   "execution_count": null,
   "metadata": {},
   "outputs": [],
   "source": [
    "import regex as re\n",
    "import pandas as pd\n",
    "L2=[]\n",
    "\n",
    "for i in range(len(L)):\n",
    "    for j in range(7):\n",
    "        m=[s.strip() for s in re.split(\"..原文\\n|..爻辞\\n|白话文解释\\n|《断易天机》解|北宋易学家邵雍解|传统解卦|台湾国学大儒傅佩荣解|..变卦\\n|.+哲学含义\", L[i][j])]\n",
    "        if j==0:\n",
    "            weidu=[s.strip() for s in re.split(\"\\n\",m[5])]\n",
    "            if len(m)>7:\n",
    "                d={'原文':m[1],'白话文':m[2],'《断易天机》':m[3],'邵雍':m[4],'时运':weidu[0][3:],'财运':weidu[1][3:],'家宅':weidu[2][3:],'身体':weidu[3][3:],'传统':m[6],'哲学含义':m[7].strip('：')}\n",
    "            else:\n",
    "                d={'原文':m[1],'白话文':m[2],'《断易天机》':m[3],'邵雍':m[4],'时运':weidu[0][3:],'财运':weidu[1][3:],'家宅':weidu[2][3:],'身体':weidu[3][3:],'传统':m[6]}\n",
    "        else:\n",
    "            if i==57 and j==4: \n",
    "                L2.append({})\n",
    "                continue\n",
    "            weidu=[s.strip() for s in re.split(\"\\n\",m[4])]\n",
    "            if len(m)>6:\n",
    "                d={'吉凶':m[3][0],'原文':m[1],'白话文':m[2],'邵雍':m[3][2:],'时运':weidu[0][3:],'财运':weidu[1][3:],'家宅':weidu[2][3:],'身体':weidu[3][3:],'变卦':m[5],'哲学含义':m[6].strip('：\\n')}\n",
    "            else:\n",
    "                d={'吉凶':m[3][0],'原文':m[1],'白话文':m[2],'邵雍':m[3],'时运':weidu[0][3:],'财运':weidu[1][3:],'家宅':weidu[2][3:],'身体':weidu[3][3:],'变卦':m[5]}\n",
    "        L2.append(d)\n",
    "        \n",
    "content=['卦','一爻','二爻','三爻','四爻','五爻','六爻']\n",
    "Index=[]\n",
    "for i in range(len(L)):\n",
    "    for j in range(7):\n",
    "        Index.append(zhouyiguaxu[i]+content[j])\n",
    "        \n",
    "df=pd.DataFrame(L2)\n",
    "df.index=Index\n",
    "df.to_excel('六十四卦.xlsx')"
   ]
  }
 ],
 "metadata": {
  "kernelspec": {
   "display_name": "Python 3",
   "language": "python",
   "name": "python3"
  },
  "language_info": {
   "codemirror_mode": {
    "name": "ipython",
    "version": 3
   },
   "file_extension": ".py",
   "mimetype": "text/x-python",
   "name": "python",
   "nbconvert_exporter": "python",
   "pygments_lexer": "ipython3",
   "version": "3.8.5"
  }
 },
 "nbformat": 4,
 "nbformat_minor": 4
}
